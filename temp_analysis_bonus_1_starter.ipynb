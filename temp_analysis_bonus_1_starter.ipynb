{
 "cells": [
  {
   "cell_type": "markdown",
   "metadata": {},
   "source": [
    "# Bonus: Temperature Analysis I"
   ]
  },
  {
   "cell_type": "code",
   "execution_count": 1,
   "metadata": {},
   "outputs": [],
   "source": [
    "import pandas as pd\n",
    "from datetime import datetime as dt"
   ]
  },
  {
   "cell_type": "code",
   "execution_count": 2,
   "metadata": {},
   "outputs": [
    {
     "data": {
      "text/html": [
       "<div>\n",
       "<style scoped>\n",
       "    .dataframe tbody tr th:only-of-type {\n",
       "        vertical-align: middle;\n",
       "    }\n",
       "\n",
       "    .dataframe tbody tr th {\n",
       "        vertical-align: top;\n",
       "    }\n",
       "\n",
       "    .dataframe thead th {\n",
       "        text-align: right;\n",
       "    }\n",
       "</style>\n",
       "<table border=\"1\" class=\"dataframe\">\n",
       "  <thead>\n",
       "    <tr style=\"text-align: right;\">\n",
       "      <th></th>\n",
       "      <th>station</th>\n",
       "      <th>date</th>\n",
       "      <th>prcp</th>\n",
       "      <th>tobs</th>\n",
       "    </tr>\n",
       "  </thead>\n",
       "  <tbody>\n",
       "    <tr>\n",
       "      <th>0</th>\n",
       "      <td>USC00519397</td>\n",
       "      <td>2010-01-01</td>\n",
       "      <td>0.08</td>\n",
       "      <td>65</td>\n",
       "    </tr>\n",
       "    <tr>\n",
       "      <th>1</th>\n",
       "      <td>USC00519397</td>\n",
       "      <td>2010-01-02</td>\n",
       "      <td>0.00</td>\n",
       "      <td>63</td>\n",
       "    </tr>\n",
       "    <tr>\n",
       "      <th>2</th>\n",
       "      <td>USC00519397</td>\n",
       "      <td>2010-01-03</td>\n",
       "      <td>0.00</td>\n",
       "      <td>74</td>\n",
       "    </tr>\n",
       "    <tr>\n",
       "      <th>3</th>\n",
       "      <td>USC00519397</td>\n",
       "      <td>2010-01-04</td>\n",
       "      <td>0.00</td>\n",
       "      <td>76</td>\n",
       "    </tr>\n",
       "    <tr>\n",
       "      <th>4</th>\n",
       "      <td>USC00519397</td>\n",
       "      <td>2010-01-06</td>\n",
       "      <td>NaN</td>\n",
       "      <td>73</td>\n",
       "    </tr>\n",
       "  </tbody>\n",
       "</table>\n",
       "</div>"
      ],
      "text/plain": [
       "       station        date  prcp  tobs\n",
       "0  USC00519397  2010-01-01  0.08    65\n",
       "1  USC00519397  2010-01-02  0.00    63\n",
       "2  USC00519397  2010-01-03  0.00    74\n",
       "3  USC00519397  2010-01-04  0.00    76\n",
       "4  USC00519397  2010-01-06   NaN    73"
      ]
     },
     "execution_count": 2,
     "metadata": {},
     "output_type": "execute_result"
    }
   ],
   "source": [
    "# \"tobs\" is \"temperature observations\"\n",
    "df = pd.read_csv('Resources/hawaii_measurements.csv')\n",
    "df.head()"
   ]
  },
  {
   "cell_type": "code",
   "execution_count": 3,
   "metadata": {},
   "outputs": [
    {
     "name": "stdout",
     "output_type": "stream",
     "text": [
      "<class 'pandas.core.frame.DataFrame'>\n",
      "RangeIndex: 19550 entries, 0 to 19549\n",
      "Data columns (total 4 columns):\n",
      " #   Column   Non-Null Count  Dtype         \n",
      "---  ------   --------------  -----         \n",
      " 0   station  19550 non-null  object        \n",
      " 1   date     19550 non-null  datetime64[ns]\n",
      " 2   prcp     18103 non-null  float64       \n",
      " 3   tobs     19550 non-null  int64         \n",
      "dtypes: datetime64[ns](1), float64(1), int64(1), object(1)\n",
      "memory usage: 611.1+ KB\n"
     ]
    }
   ],
   "source": [
    "# Convert the date column format from string to datetime\n",
    "df['date'] = pd.to_datetime(df['date'])\n",
    "df.info()                "
   ]
  },
  {
   "cell_type": "code",
   "execution_count": 4,
   "metadata": {},
   "outputs": [
    {
     "data": {
      "text/html": [
       "<div>\n",
       "<style scoped>\n",
       "    .dataframe tbody tr th:only-of-type {\n",
       "        vertical-align: middle;\n",
       "    }\n",
       "\n",
       "    .dataframe tbody tr th {\n",
       "        vertical-align: top;\n",
       "    }\n",
       "\n",
       "    .dataframe thead th {\n",
       "        text-align: right;\n",
       "    }\n",
       "</style>\n",
       "<table border=\"1\" class=\"dataframe\">\n",
       "  <thead>\n",
       "    <tr style=\"text-align: right;\">\n",
       "      <th></th>\n",
       "      <th>station</th>\n",
       "      <th>prcp</th>\n",
       "      <th>tobs</th>\n",
       "    </tr>\n",
       "    <tr>\n",
       "      <th>date</th>\n",
       "      <th></th>\n",
       "      <th></th>\n",
       "      <th></th>\n",
       "    </tr>\n",
       "  </thead>\n",
       "  <tbody>\n",
       "    <tr>\n",
       "      <th>2010-01-01</th>\n",
       "      <td>USC00519397</td>\n",
       "      <td>0.08</td>\n",
       "      <td>65</td>\n",
       "    </tr>\n",
       "    <tr>\n",
       "      <th>2010-01-02</th>\n",
       "      <td>USC00519397</td>\n",
       "      <td>0.00</td>\n",
       "      <td>63</td>\n",
       "    </tr>\n",
       "    <tr>\n",
       "      <th>2010-01-03</th>\n",
       "      <td>USC00519397</td>\n",
       "      <td>0.00</td>\n",
       "      <td>74</td>\n",
       "    </tr>\n",
       "    <tr>\n",
       "      <th>2010-01-04</th>\n",
       "      <td>USC00519397</td>\n",
       "      <td>0.00</td>\n",
       "      <td>76</td>\n",
       "    </tr>\n",
       "    <tr>\n",
       "      <th>2010-01-06</th>\n",
       "      <td>USC00519397</td>\n",
       "      <td>NaN</td>\n",
       "      <td>73</td>\n",
       "    </tr>\n",
       "  </tbody>\n",
       "</table>\n",
       "</div>"
      ],
      "text/plain": [
       "                station  prcp  tobs\n",
       "date                               \n",
       "2010-01-01  USC00519397  0.08    65\n",
       "2010-01-02  USC00519397  0.00    63\n",
       "2010-01-03  USC00519397  0.00    74\n",
       "2010-01-04  USC00519397  0.00    76\n",
       "2010-01-06  USC00519397   NaN    73"
      ]
     },
     "execution_count": 4,
     "metadata": {},
     "output_type": "execute_result"
    }
   ],
   "source": [
    "# Set the date column as the DataFrame index\n",
    "df.set_index('date', inplace=True)\n",
    "df.head()"
   ]
  },
  {
   "cell_type": "markdown",
   "metadata": {},
   "source": [
    "### Compare June and December data across all years "
   ]
  },
  {
   "cell_type": "code",
   "execution_count": 5,
   "metadata": {},
   "outputs": [],
   "source": [
    "from scipy import stats"
   ]
  },
  {
   "cell_type": "code",
   "execution_count": 6,
   "metadata": {},
   "outputs": [
    {
     "data": {
      "text/html": [
       "<div>\n",
       "<style scoped>\n",
       "    .dataframe tbody tr th:only-of-type {\n",
       "        vertical-align: middle;\n",
       "    }\n",
       "\n",
       "    .dataframe tbody tr th {\n",
       "        vertical-align: top;\n",
       "    }\n",
       "\n",
       "    .dataframe thead th {\n",
       "        text-align: right;\n",
       "    }\n",
       "</style>\n",
       "<table border=\"1\" class=\"dataframe\">\n",
       "  <thead>\n",
       "    <tr style=\"text-align: right;\">\n",
       "      <th></th>\n",
       "      <th>station</th>\n",
       "      <th>prcp</th>\n",
       "      <th>tobs</th>\n",
       "    </tr>\n",
       "    <tr>\n",
       "      <th>date</th>\n",
       "      <th></th>\n",
       "      <th></th>\n",
       "      <th></th>\n",
       "    </tr>\n",
       "  </thead>\n",
       "  <tbody>\n",
       "    <tr>\n",
       "      <th>2010-06-01</th>\n",
       "      <td>USC00519397</td>\n",
       "      <td>0.00</td>\n",
       "      <td>78</td>\n",
       "    </tr>\n",
       "    <tr>\n",
       "      <th>2010-06-02</th>\n",
       "      <td>USC00519397</td>\n",
       "      <td>0.01</td>\n",
       "      <td>76</td>\n",
       "    </tr>\n",
       "    <tr>\n",
       "      <th>2010-06-03</th>\n",
       "      <td>USC00519397</td>\n",
       "      <td>0.00</td>\n",
       "      <td>78</td>\n",
       "    </tr>\n",
       "    <tr>\n",
       "      <th>2010-06-04</th>\n",
       "      <td>USC00519397</td>\n",
       "      <td>0.00</td>\n",
       "      <td>76</td>\n",
       "    </tr>\n",
       "    <tr>\n",
       "      <th>2010-06-05</th>\n",
       "      <td>USC00519397</td>\n",
       "      <td>0.00</td>\n",
       "      <td>77</td>\n",
       "    </tr>\n",
       "    <tr>\n",
       "      <th>...</th>\n",
       "      <td>...</td>\n",
       "      <td>...</td>\n",
       "      <td>...</td>\n",
       "    </tr>\n",
       "    <tr>\n",
       "      <th>2017-06-26</th>\n",
       "      <td>USC00516128</td>\n",
       "      <td>0.02</td>\n",
       "      <td>79</td>\n",
       "    </tr>\n",
       "    <tr>\n",
       "      <th>2017-06-27</th>\n",
       "      <td>USC00516128</td>\n",
       "      <td>0.10</td>\n",
       "      <td>74</td>\n",
       "    </tr>\n",
       "    <tr>\n",
       "      <th>2017-06-28</th>\n",
       "      <td>USC00516128</td>\n",
       "      <td>0.02</td>\n",
       "      <td>74</td>\n",
       "    </tr>\n",
       "    <tr>\n",
       "      <th>2017-06-29</th>\n",
       "      <td>USC00516128</td>\n",
       "      <td>0.04</td>\n",
       "      <td>76</td>\n",
       "    </tr>\n",
       "    <tr>\n",
       "      <th>2017-06-30</th>\n",
       "      <td>USC00516128</td>\n",
       "      <td>0.20</td>\n",
       "      <td>75</td>\n",
       "    </tr>\n",
       "  </tbody>\n",
       "</table>\n",
       "<p>1700 rows × 3 columns</p>\n",
       "</div>"
      ],
      "text/plain": [
       "                station  prcp  tobs\n",
       "date                               \n",
       "2010-06-01  USC00519397  0.00    78\n",
       "2010-06-02  USC00519397  0.01    76\n",
       "2010-06-03  USC00519397  0.00    78\n",
       "2010-06-04  USC00519397  0.00    76\n",
       "2010-06-05  USC00519397  0.00    77\n",
       "...                 ...   ...   ...\n",
       "2017-06-26  USC00516128  0.02    79\n",
       "2017-06-27  USC00516128  0.10    74\n",
       "2017-06-28  USC00516128  0.02    74\n",
       "2017-06-29  USC00516128  0.04    76\n",
       "2017-06-30  USC00516128  0.20    75\n",
       "\n",
       "[1700 rows x 3 columns]"
      ]
     },
     "execution_count": 6,
     "metadata": {},
     "output_type": "execute_result"
    }
   ],
   "source": [
    "june = df[df.index.month == 6]\n",
    "june"
   ]
  },
  {
   "cell_type": "code",
   "execution_count": 7,
   "metadata": {},
   "outputs": [
    {
     "name": "stdout",
     "output_type": "stream",
     "text": [
      "The average temperature in Honolulu, HI for the month of June is 74.94411764705882.\n"
     ]
    }
   ],
   "source": [
    "# Average temps for June\n",
    "june_temp_avg = june[\"tobs\"].mean()\n",
    "june_temp_avg\n",
    "print(f\"The average temperature in Honolulu, HI for the month of June is {june_temp_avg}.\")"
   ]
  },
  {
   "cell_type": "code",
   "execution_count": 8,
   "metadata": {},
   "outputs": [
    {
     "data": {
      "text/html": [
       "<div>\n",
       "<style scoped>\n",
       "    .dataframe tbody tr th:only-of-type {\n",
       "        vertical-align: middle;\n",
       "    }\n",
       "\n",
       "    .dataframe tbody tr th {\n",
       "        vertical-align: top;\n",
       "    }\n",
       "\n",
       "    .dataframe thead th {\n",
       "        text-align: right;\n",
       "    }\n",
       "</style>\n",
       "<table border=\"1\" class=\"dataframe\">\n",
       "  <thead>\n",
       "    <tr style=\"text-align: right;\">\n",
       "      <th></th>\n",
       "      <th>station</th>\n",
       "      <th>prcp</th>\n",
       "      <th>tobs</th>\n",
       "    </tr>\n",
       "    <tr>\n",
       "      <th>date</th>\n",
       "      <th></th>\n",
       "      <th></th>\n",
       "      <th></th>\n",
       "    </tr>\n",
       "  </thead>\n",
       "  <tbody>\n",
       "    <tr>\n",
       "      <th>2010-12-01</th>\n",
       "      <td>USC00519397</td>\n",
       "      <td>0.04</td>\n",
       "      <td>76</td>\n",
       "    </tr>\n",
       "    <tr>\n",
       "      <th>2010-12-03</th>\n",
       "      <td>USC00519397</td>\n",
       "      <td>0.00</td>\n",
       "      <td>74</td>\n",
       "    </tr>\n",
       "    <tr>\n",
       "      <th>2010-12-04</th>\n",
       "      <td>USC00519397</td>\n",
       "      <td>0.00</td>\n",
       "      <td>74</td>\n",
       "    </tr>\n",
       "    <tr>\n",
       "      <th>2010-12-06</th>\n",
       "      <td>USC00519397</td>\n",
       "      <td>0.00</td>\n",
       "      <td>64</td>\n",
       "    </tr>\n",
       "    <tr>\n",
       "      <th>2010-12-07</th>\n",
       "      <td>USC00519397</td>\n",
       "      <td>0.00</td>\n",
       "      <td>64</td>\n",
       "    </tr>\n",
       "    <tr>\n",
       "      <th>...</th>\n",
       "      <td>...</td>\n",
       "      <td>...</td>\n",
       "      <td>...</td>\n",
       "    </tr>\n",
       "    <tr>\n",
       "      <th>2016-12-27</th>\n",
       "      <td>USC00516128</td>\n",
       "      <td>0.14</td>\n",
       "      <td>71</td>\n",
       "    </tr>\n",
       "    <tr>\n",
       "      <th>2016-12-28</th>\n",
       "      <td>USC00516128</td>\n",
       "      <td>0.14</td>\n",
       "      <td>71</td>\n",
       "    </tr>\n",
       "    <tr>\n",
       "      <th>2016-12-29</th>\n",
       "      <td>USC00516128</td>\n",
       "      <td>1.03</td>\n",
       "      <td>69</td>\n",
       "    </tr>\n",
       "    <tr>\n",
       "      <th>2016-12-30</th>\n",
       "      <td>USC00516128</td>\n",
       "      <td>2.37</td>\n",
       "      <td>65</td>\n",
       "    </tr>\n",
       "    <tr>\n",
       "      <th>2016-12-31</th>\n",
       "      <td>USC00516128</td>\n",
       "      <td>0.90</td>\n",
       "      <td>65</td>\n",
       "    </tr>\n",
       "  </tbody>\n",
       "</table>\n",
       "<p>1517 rows × 3 columns</p>\n",
       "</div>"
      ],
      "text/plain": [
       "                station  prcp  tobs\n",
       "date                               \n",
       "2010-12-01  USC00519397  0.04    76\n",
       "2010-12-03  USC00519397  0.00    74\n",
       "2010-12-04  USC00519397  0.00    74\n",
       "2010-12-06  USC00519397  0.00    64\n",
       "2010-12-07  USC00519397  0.00    64\n",
       "...                 ...   ...   ...\n",
       "2016-12-27  USC00516128  0.14    71\n",
       "2016-12-28  USC00516128  0.14    71\n",
       "2016-12-29  USC00516128  1.03    69\n",
       "2016-12-30  USC00516128  2.37    65\n",
       "2016-12-31  USC00516128  0.90    65\n",
       "\n",
       "[1517 rows x 3 columns]"
      ]
     },
     "execution_count": 8,
     "metadata": {},
     "output_type": "execute_result"
    }
   ],
   "source": [
    "dec = df[df.index.month == 12]\n",
    "dec"
   ]
  },
  {
   "cell_type": "code",
   "execution_count": 9,
   "metadata": {},
   "outputs": [
    {
     "name": "stdout",
     "output_type": "stream",
     "text": [
      "The average temperature in Honolulu, HI for the month of December is 71.04152933421226.\n"
     ]
    }
   ],
   "source": [
    "# Identify the average temperature for December\n",
    "dec_temp_avg = dec[\"tobs\"].mean()\n",
    "dec_temp_avg\n",
    "print(f\"The average temperature in Honolulu, HI for the month of December is {dec_temp_avg}.\")"
   ]
  },
  {
   "cell_type": "code",
   "execution_count": 10,
   "metadata": {},
   "outputs": [
    {
     "name": "stdout",
     "output_type": "stream",
     "text": [
      "ShapiroResult(statistic=0.983282744884491, pvalue=3.5219510684594835e-13)\n",
      "ShapiroResult(statistic=0.9843476414680481, pvalue=9.044617485520767e-12)\n"
     ]
    }
   ],
   "source": [
    "june_stats = stats.shapiro(june['tobs'])\n",
    "june_stats\n",
    "print(june_stats)\n",
    "dec_stats = stats.shapiro(dec['tobs'])\n",
    "dec_stats\n",
    "print(dec_stats)"
   ]
  },
  {
   "cell_type": "code",
   "execution_count": 11,
   "metadata": {},
   "outputs": [
    {
     "data": {
      "text/plain": [
       "Ttest_indResult(statistic=31.60372399000329, pvalue=3.9025129038616655e-191)"
      ]
     },
     "execution_count": 11,
     "metadata": {},
     "output_type": "execute_result"
    }
   ],
   "source": [
    "# Run unpaired t-test\n",
    "stats.ttest_ind(june[\"tobs\"], dec[\"tobs\"])"
   ]
  },
  {
   "cell_type": "markdown",
   "metadata": {},
   "source": [
    "### Analysis"
   ]
  },
  {
   "cell_type": "markdown",
   "metadata": {},
   "source": [
    "I ran an indepedant t-test, with a null hypthosis stating that the average temperature during the months of June and   \n",
    "December in Honolulu, HI would be the same. I can reject the null hypothesis because the p-values are significantly less than  \n",
    "0.05."
   ]
  }
 ],
 "metadata": {
  "kernelspec": {
   "display_name": "Python 3",
   "language": "python",
   "name": "python3"
  },
  "language_info": {
   "codemirror_mode": {
    "name": "ipython",
    "version": 3
   },
   "file_extension": ".py",
   "mimetype": "text/x-python",
   "name": "python",
   "nbconvert_exporter": "python",
   "pygments_lexer": "ipython3",
   "version": "3.6.10"
  }
 },
 "nbformat": 4,
 "nbformat_minor": 4
}
